{
 "cells": [
  {
   "cell_type": "code",
   "execution_count": 1,
   "metadata": {},
   "outputs": [
    {
     "name": "stderr",
     "output_type": "stream",
     "text": [
      "Using TensorFlow backend.\n"
     ]
    }
   ],
   "source": [
    "import json\n",
    "import random\n",
    "import numpy\n",
    "from gensim.models.fasttext import load_facebook_model\n",
    "from nltk.stem import WordNetLemmatizer\n",
    "from keras.utils import to_categorical\n",
    "from nltk.tokenize import TweetTokenizer\n",
    "from nltk import tokenize"
   ]
  },
  {
   "cell_type": "code",
   "execution_count": 9,
   "metadata": {},
   "outputs": [],
   "source": [
    "trained_model = None\n",
    "fasttext_model = None\n",
    "lemmatizer = WordNetLemmatizer()\n",
    "tokenizer = TweetTokenizer()"
   ]
  },
  {
   "cell_type": "code",
   "execution_count": 19,
   "metadata": {},
   "outputs": [],
   "source": [
    "def load_fasttext():\n",
    "    global fasttext_model\n",
    "    fasttext_model = load_facebook_model('wiki-news-300d-1M-subword.bin')\n"
   ]
  },
  {
   "cell_type": "code",
   "execution_count": 49,
   "metadata": {},
   "outputs": [],
   "source": [
    "def fasttext_Vec(body):\n",
    "    global fasttext_model\n",
    "    tokens = tokenizer.tokenize(body)\n",
    "    output = numpy.zeros(300)\n",
    "    for token in tokens:\n",
    "        try:\n",
    "            output = numpy.add(output, fasttext_model[token.lower()])\n",
    "        except Exception as e:\n",
    "            print(e)\n",
    "            output = numpy.add(output, numpy.zeros(300))\n",
    "    return output"
   ]
  },
  {
   "cell_type": "code",
   "execution_count": 51,
   "metadata": {},
   "outputs": [],
   "source": [
    "def classify():\n",
    "    \n",
    "    patients = []\n",
    "    import csv\n",
    "\n",
    "    with open('data.csv', mode='r') as csv_file:\n",
    "        csv_reader = csv.DictReader(csv_file)\n",
    "        line_count = 0\n",
    "        for row in csv_reader:\n",
    "            if line_count == 0:\n",
    "                print(f'Column names are {\", \".join(row)}')\n",
    "                line_count += 1\n",
    "            #print(f'\\t{row[\"name\"]} works in the {row[\"department\"]} department, and was born in {row[\"birthday month\"]}.')\n",
    "            patient = []\n",
    "            # process the input\n",
    "\n",
    "            # patientID\n",
    "            patient.append(row['PatientID'])\n",
    "\n",
    "            patient.append(row['Patient Acct #'])\n",
    "\n",
    "            #patient.append(row['First Name'])\n",
    "            #patient.append(row['Last Name'])\n",
    "            patient.append(row['First Name'] + ' ' + row['MI'] + ' ' + row['Last Name'])\n",
    "\n",
    "            patient.append(row['Date of Birth'])\n",
    "\n",
    "            patient.append(row['Current Street 1'] + ' ' + row['Current Street 2'] + ' ' + row['Current City'] + ' ' + row['Current State'] + ' ' + row['Current Zip Code'])\n",
    "            \n",
    "            patient.append(row['Previous First Name'] + ' ' + row['Previous MI'] + ' ' + row['Previous Last Name'])\n",
    "\n",
    "            patient.append(row['Previous Street 1'] + ' ' + row['Previous Street 2'] + ' ' + row['Previous City'] + ' ' + row['Previous State'] + ' ' + row['Previous Zip Code'])\n",
    "\n",
    "            patients.append(patient)\n",
    "\n",
    "            line_count += 1\n",
    "        print(f'Processed {line_count} lines.')\n",
    "    \n",
    "    return patients"
   ]
  },
  {
   "cell_type": "code",
   "execution_count": 20,
   "metadata": {},
   "outputs": [],
   "source": [
    "load_fasttext()"
   ]
  },
  {
   "cell_type": "code",
   "execution_count": 50,
   "metadata": {},
   "outputs": [
    {
     "name": "stderr",
     "output_type": "stream",
     "text": [
      "/Library/Frameworks/Python.framework/Versions/3.6/lib/python3.6/site-packages/ipykernel_launcher.py:7: DeprecationWarning: Call to deprecated `__getitem__` (Method will be removed in 4.0.0, use self.wv.__getitem__() instead).\n",
      "  import sys\n"
     ]
    },
    {
     "data": {
      "text/plain": [
       "array([-1.58778857e-02,  2.30641589e-02,  3.15905996e-02,  2.45315544e-02,\n",
       "        1.89349670e-02, -1.65626183e-02,  1.36937127e-02, -4.63614166e-02,\n",
       "       -3.76073830e-02, -1.68398824e-02, -1.62046459e-02,  3.15559544e-02,\n",
       "        1.42231910e-02,  2.21537650e-02, -6.57501072e-03,  1.52964098e-02,\n",
       "        4.37352285e-02,  4.55485657e-02,  2.19480656e-02, -4.06031646e-02,\n",
       "       -2.13199966e-02, -1.00188358e-02, -5.01489155e-02,  2.93348618e-02,\n",
       "        2.02660132e-02, -2.12313654e-03,  1.39874667e-02,  3.74888703e-02,\n",
       "        3.36791873e-02, -2.49912776e-02,  9.68249864e-04,  4.45351079e-02,\n",
       "        1.45235583e-02,  7.23537663e-03, -5.64728584e-03, -2.85669900e-02,\n",
       "        3.28504406e-02,  2.42715217e-02,  1.16295552e-04, -1.46272480e-02,\n",
       "       -3.35383713e-02, -8.59307498e-02, -2.36208411e-03, -1.00664664e-02,\n",
       "        1.53780999e-02,  2.32233405e-02,  7.00091571e-03, -3.72130945e-02,\n",
       "        2.57281354e-03,  5.74873500e-02,  8.05174559e-03,  7.17989635e-03,\n",
       "        4.99734767e-02, -5.13328128e-02,  2.47038193e-02,  1.26877683e-03,\n",
       "       -1.56774111e-02,  1.75645649e-02, -4.74152081e-02, -2.15360094e-02,\n",
       "        4.27395012e-03,  6.05618441e-03,  1.01571549e-02,  3.83818522e-03,\n",
       "       -2.15135217e-02,  4.02254835e-02,  3.17039192e-02, -2.21643015e-03,\n",
       "       -7.26260850e-03, -3.84285785e-02, -2.60805991e-02,  4.13777772e-03,\n",
       "        4.03618403e-02, -1.68969929e-02,  1.10377965e-03, -2.00318303e-02,\n",
       "        1.97286829e-02, -1.54696954e-02, -1.78863145e-02,  3.11795957e-02,\n",
       "       -6.23395434e-03, -2.80146804e-02,  5.97295165e-02,  2.70366967e-02,\n",
       "       -6.28246218e-02, -4.00976613e-02, -3.01569942e-02, -1.23465015e-02,\n",
       "       -9.99822188e-03,  3.90612409e-02, -2.32696421e-02,  1.75871346e-02,\n",
       "       -6.31605163e-02, -3.44225280e-02,  6.08234107e-02,  2.96116062e-02,\n",
       "        2.64185127e-02,  6.49358844e-03, -4.61275168e-02, -2.79731601e-02,\n",
       "        2.70749889e-02, -1.04994001e-02, -2.14738026e-02, -2.35821642e-02,\n",
       "       -5.72408326e-02, -2.39910949e-02, -3.29604968e-02, -2.08586715e-02,\n",
       "        3.57283726e-02, -4.11045272e-03, -3.73908840e-02,  5.70419431e-02,\n",
       "       -2.54758690e-02, -1.75109021e-02, -1.01639973e-02,  1.66316982e-02,\n",
       "       -3.45361345e-02, -7.28121633e-03,  3.34410928e-02,  8.08497611e-03,\n",
       "        6.83814567e-03, -1.30739314e-02, -2.44383654e-03,  2.68859300e-03,\n",
       "        2.94979056e-03,  1.30622108e-02,  2.03922931e-02, -2.54615638e-02,\n",
       "        4.87389509e-03,  2.80972179e-02, -6.67697340e-02,  9.92085133e-03,\n",
       "       -1.56958494e-02, -1.06891114e-02,  1.19023267e-02, -4.62568067e-02,\n",
       "        5.14272675e-02,  2.11247988e-02, -2.21913308e-03,  2.71611158e-02,\n",
       "       -7.54983444e-03, -7.54037639e-03,  2.44408753e-02,  3.83915827e-02,\n",
       "        3.12088765e-02,  3.68033303e-03,  1.71373188e-02, -2.10902840e-02,\n",
       "        1.84576940e-02,  1.09148836e-02, -1.35183427e-03,  1.29763335e-02,\n",
       "        1.18765468e-02,  2.68616378e-02, -2.88414992e-02, -2.68298946e-02,\n",
       "        2.69965269e-02, -3.49432938e-02, -1.36119481e-02, -8.93319771e-03,\n",
       "        9.90965497e-03, -1.06856227e-04, -2.10834146e-02,  1.35508385e-02,\n",
       "       -3.38232368e-02, -5.24448529e-02, -1.18571706e-03,  3.34974052e-03,\n",
       "       -2.35620886e-02,  2.75374353e-02,  5.22955600e-03, -1.72373804e-03,\n",
       "       -2.62361579e-02, -1.09167080e-02, -5.50199077e-02,  8.15985575e-02,\n",
       "       -1.95101555e-03,  1.49525423e-02,  2.71103978e-02,  3.68113886e-03,\n",
       "        1.34599330e-02,  7.49767479e-03,  6.23681163e-03, -5.43065323e-03,\n",
       "        4.20487905e-03, -4.41856794e-02, -2.64109904e-03,  9.08256993e-02,\n",
       "        2.10778899e-02, -1.46571174e-02, -3.98912057e-02,  5.07583022e-02,\n",
       "       -4.93291989e-02,  2.35502422e-02, -2.19569132e-02, -4.70129307e-03,\n",
       "       -4.41690674e-03,  1.01247467e-02, -1.73262842e-02,  1.07135484e-02,\n",
       "       -1.14209011e-01,  4.28502560e-02, -4.99080587e-03,  7.80561287e-03,\n",
       "        1.57514249e-03, -1.99202448e-02,  8.19844753e-03, -4.40009544e-03,\n",
       "       -2.63719267e-04, -1.55608896e-02, -5.32876840e-03, -1.01486994e-02,\n",
       "        2.97591332e-02, -5.75138070e-03,  5.24628460e-02, -2.55509233e-03,\n",
       "       -5.80496192e-02, -3.39095742e-02, -2.61479104e-03, -4.01484370e-02,\n",
       "        5.47451386e-03, -4.35046442e-02, -3.46411881e-03,  5.25778905e-02,\n",
       "        3.41121554e-02, -1.19909947e-03,  8.79314821e-03,  8.63846689e-02,\n",
       "        3.07519883e-02,  1.30123063e-03, -5.91675192e-03, -4.44483012e-02,\n",
       "        2.46865302e-02, -5.65155875e-03,  6.59596249e-02, -3.50295231e-02,\n",
       "       -2.75005703e-03,  1.03996042e-02, -4.50478867e-03,  6.08139858e-03,\n",
       "        1.81213953e-02, -1.20628928e-03,  5.47028966e-02, -5.35866506e-02,\n",
       "       -1.06197577e-02,  2.21639499e-02,  1.80434342e-02,  1.01612955e-02,\n",
       "       -1.45399822e-02, -2.51158588e-02,  8.84826928e-02, -6.03033509e-03,\n",
       "        1.53735746e-02,  1.85009092e-04,  1.43064559e-03, -4.30108160e-02,\n",
       "       -3.61900739e-02, -9.97512508e-03,  4.88352787e-04, -5.80839887e-02,\n",
       "        2.06324567e-05,  8.98111612e-04,  6.20656908e-02, -1.59757230e-02,\n",
       "        4.26058052e-03, -3.36183459e-02,  2.47542281e-02,  1.22258691e-02,\n",
       "        1.85786467e-02, -1.64188053e-02, -3.20715196e-02,  1.25515563e-02,\n",
       "       -3.26805785e-02, -2.96122041e-02,  5.29139712e-02, -1.16187716e-02,\n",
       "       -2.23335880e-03, -1.61839034e-02, -2.96438718e-03, -1.63235068e-02,\n",
       "        1.54644130e-02,  2.83156876e-02,  4.88063972e-03, -8.99140630e-03,\n",
       "       -6.00211844e-02, -1.55147742e-02,  9.37632937e-03, -2.75370181e-02,\n",
       "        4.66246381e-02, -4.12760954e-03, -5.40271867e-03, -2.56156293e-03,\n",
       "       -1.28028514e-02, -2.20127665e-02,  1.42906066e-02,  4.43473049e-02,\n",
       "        3.29407342e-02,  4.05018926e-02, -2.81122338e-04,  1.29455207e-02])"
      ]
     },
     "execution_count": 50,
     "metadata": {},
     "output_type": "execute_result"
    }
   ],
   "source": [
    "fasttext_Vec(\"hello\")"
   ]
  },
  {
   "cell_type": "code",
   "execution_count": null,
   "metadata": {},
   "outputs": [],
   "source": []
  },
  {
   "cell_type": "code",
   "execution_count": 22,
   "metadata": {},
   "outputs": [],
   "source": [
    "from sklearn.metrics.pairwise import cosine_similarity\n"
   ]
  },
  {
   "cell_type": "code",
   "execution_count": 52,
   "metadata": {},
   "outputs": [
    {
     "name": "stdout",
     "output_type": "stream",
     "text": [
      "Column names are GroupID, PatientID, Patient Acct #, First Name, MI, Last Name, Date of Birth, Sex, Current Street 1, Current Street 2, Current City, Current State, Current Zip Code, Previous First Name, Previous MI, Previous Last Name, Previous Street 1, Previous Street 2, Previous City, Previous State, Previous Zip Code\n",
      "Processed 202 lines.\n"
     ]
    }
   ],
   "source": [
    "patients = classify()"
   ]
  },
  {
   "cell_type": "code",
   "execution_count": 64,
   "metadata": {},
   "outputs": [
    {
     "data": {
      "text/plain": [
       "'1858 Sullivan Parkway  Fresno California 93726'"
      ]
     },
     "execution_count": 64,
     "metadata": {},
     "output_type": "execute_result"
    }
   ],
   "source": [
    "patients[0][4]\n"
   ]
  },
  {
   "cell_type": "code",
   "execution_count": 65,
   "metadata": {},
   "outputs": [
    {
     "data": {
      "text/plain": [
       "'1858 SULLIVAN PKWAY APT 2 FRESNO California 93726'"
      ]
     },
     "execution_count": 65,
     "metadata": {},
     "output_type": "execute_result"
    }
   ],
   "source": [
    "patients[4][4]\n"
   ]
  },
  {
   "cell_type": "code",
   "execution_count": 69,
   "metadata": {},
   "outputs": [
    {
     "data": {
      "text/plain": [
       "'715 Jana Point  Apache Junction Arizona 85219'"
      ]
     },
     "execution_count": 69,
     "metadata": {},
     "output_type": "execute_result"
    }
   ],
   "source": [
    "patients[10][4]"
   ]
  },
  {
   "cell_type": "code",
   "execution_count": 66,
   "metadata": {},
   "outputs": [
    {
     "name": "stderr",
     "output_type": "stream",
     "text": [
      "/Library/Frameworks/Python.framework/Versions/3.6/lib/python3.6/site-packages/ipykernel_launcher.py:7: DeprecationWarning: Call to deprecated `__getitem__` (Method will be removed in 4.0.0, use self.wv.__getitem__() instead).\n",
      "  import sys\n"
     ]
    }
   ],
   "source": [
    "a = fasttext_Vec(patients[0][4])\n",
    "b = fasttext_Vec(patients[4][4])"
   ]
  },
  {
   "cell_type": "code",
   "execution_count": 67,
   "metadata": {},
   "outputs": [],
   "source": [
    "aa = a.reshape(1,300)\n",
    "ba = b.reshape(1,300)\n",
    "c"
   ]
  },
  {
   "cell_type": "code",
   "execution_count": 68,
   "metadata": {},
   "outputs": [
    {
     "data": {
      "text/plain": [
       "array([[0.56431365]])"
      ]
     },
     "execution_count": 68,
     "metadata": {},
     "output_type": "execute_result"
    }
   ],
   "source": [
    "cos_lib"
   ]
  },
  {
   "cell_type": "code",
   "execution_count": 70,
   "metadata": {},
   "outputs": [
    {
     "name": "stderr",
     "output_type": "stream",
     "text": [
      "/Library/Frameworks/Python.framework/Versions/3.6/lib/python3.6/site-packages/ipykernel_launcher.py:7: DeprecationWarning: Call to deprecated `__getitem__` (Method will be removed in 4.0.0, use self.wv.__getitem__() instead).\n",
      "  import sys\n"
     ]
    }
   ],
   "source": [
    "c = fasttext_Vec(patients[10][4])\n",
    "cc = c.reshape(1,300)"
   ]
  },
  {
   "cell_type": "code",
   "execution_count": 74,
   "metadata": {},
   "outputs": [
    {
     "data": {
      "text/plain": [
       "array([[0.7020264]])"
      ]
     },
     "execution_count": 74,
     "metadata": {},
     "output_type": "execute_result"
    }
   ],
   "source": [
    "cos_lib = cosine_similarity(aa, cc)\n",
    "cos_lib"
   ]
  },
  {
   "cell_type": "code",
   "execution_count": 75,
   "metadata": {},
   "outputs": [
    {
     "name": "stderr",
     "output_type": "stream",
     "text": [
      "/Library/Frameworks/Python.framework/Versions/3.6/lib/python3.6/site-packages/ipykernel_launcher.py:1: DeprecationWarning: Call to deprecated `__getitem__` (Method will be removed in 4.0.0, use self.wv.__getitem__() instead).\n",
      "  \"\"\"Entry point for launching an IPython kernel.\n"
     ]
    },
    {
     "data": {
      "text/plain": [
       "array([ 0.0086621 ,  0.01774662, -0.02636334,  0.06017853, -0.02398436,\n",
       "       -0.00852194, -0.0166627 , -0.05520938,  0.0244191 , -0.05935043,\n",
       "        0.00653894, -0.06091765,  0.08238894, -0.02247767,  0.03628009,\n",
       "       -0.01987074,  0.11250972, -0.03232072,  0.03349473,  0.06780604,\n",
       "        0.01134979,  0.03913159, -0.02105902,  0.00585715,  0.09216084,\n",
       "        0.01335045,  0.02873013, -0.00166531, -0.04829741, -0.01476906,\n",
       "       -0.01960296,  0.01734094, -0.00152831,  0.01609457,  0.00728334,\n",
       "       -0.0020586 ,  0.06020669,  0.03618175,  0.02647285,  0.0013412 ,\n",
       "        0.03723323, -0.11990694,  0.01139565, -0.05652987, -0.01277511,\n",
       "        0.00896896, -0.02474639, -0.03041883,  0.02753075,  0.01321337,\n",
       "        0.04327841,  0.03605275, -0.00370486,  0.02894135, -0.01215743,\n",
       "       -0.06105187,  0.07890468, -0.00222777, -0.0740047 ,  0.00327538,\n",
       "       -0.01139508, -0.02056289,  0.1013292 , -0.00065685,  0.0068152 ,\n",
       "        0.03883969, -0.02871711, -0.0046001 ,  0.03340913,  0.01698777,\n",
       "       -0.02937231, -0.00967707,  0.00835732,  0.02912614,  0.01414143,\n",
       "       -0.00530525,  0.05227612, -0.01383298, -0.00814369, -0.04840159,\n",
       "        0.00643761, -0.06985784,  0.00013258,  0.05389344,  0.02649782,\n",
       "        0.00635601, -0.04688554,  0.01424812, -0.00370582, -0.00384241,\n",
       "        0.04529648, -0.00131047, -0.03795343,  0.01453568,  0.03609654,\n",
       "        0.0081116 ,  0.04203904,  0.0048347 , -0.02604262, -0.04605689,\n",
       "        0.0321575 , -0.03584959, -0.02539617, -0.01399273,  0.03591454,\n",
       "       -0.08878836,  0.04505317, -0.04761982,  0.05396652,  0.03990221,\n",
       "       -0.01471461,  0.06583961,  0.06720401,  0.04573295,  0.02423966,\n",
       "        0.01572899, -0.03550478,  0.00153786, -0.00092621,  0.00709393,\n",
       "       -0.01761772,  0.07957985, -0.03611365,  0.04826601,  0.05852976,\n",
       "        0.04949793, -0.01606869, -0.01991968, -0.01308859,  0.04920314,\n",
       "       -0.01739217, -0.03428028,  0.02834417, -0.00983893,  0.00024569,\n",
       "       -0.07387729, -0.04880665,  0.04157387, -0.07958093, -0.03996255,\n",
       "       -0.01093826,  0.05221656,  0.06758865,  0.05359064, -0.04412379,\n",
       "        0.03125099, -0.050353  , -0.05874254,  0.0215733 , -0.03220994,\n",
       "       -0.012376  ,  0.08910481,  0.0193729 , -0.03346205, -0.00304853,\n",
       "       -0.00682254, -0.03235442,  0.03474508,  0.0406548 , -0.00504871,\n",
       "        0.02264808,  0.04932517, -0.01255116, -0.04835968, -0.04134523,\n",
       "        0.01249122,  0.02602415,  0.05051662, -0.02168004,  0.04457113,\n",
       "       -0.03346471,  0.06818519, -0.09275416,  0.02846929,  0.0181195 ,\n",
       "        0.06159901, -0.01191186, -0.00615016,  0.0265194 ,  0.00976415,\n",
       "       -0.02616571, -0.03184261, -0.08451626, -0.00915112, -0.01666001,\n",
       "       -0.02260461,  0.03054387,  0.11745752, -0.04118183,  0.01115832,\n",
       "        0.00620395, -0.02804587, -0.00691404,  0.06666463,  0.0076779 ,\n",
       "       -0.06417664,  0.02229053,  0.00394863,  0.00197457,  0.04744754,\n",
       "       -0.10211857,  0.05018146, -0.06433783,  0.05285893,  0.04318283,\n",
       "       -0.0114572 , -0.08458798, -0.01719728, -0.04688635, -0.03909989,\n",
       "        0.03792899, -0.00220211,  0.05045751,  0.04617842, -0.01705472,\n",
       "       -0.01772781, -0.03999117,  0.03331825,  0.04408635,  0.03268113,\n",
       "       -0.05219173, -0.0564308 , -0.05396353,  0.04619856,  0.00320322,\n",
       "       -0.03282293, -0.00386997,  0.00881046,  0.00875393,  0.00787605,\n",
       "       -0.0286297 , -0.04930979, -0.00547697,  0.00049985,  0.01634476,\n",
       "        0.04276674,  0.04911071, -0.02225197, -0.06594374, -0.03581296,\n",
       "        0.0686988 ,  0.02223831, -0.04634991,  0.01376852, -0.01075144,\n",
       "       -0.03215787, -0.01506164,  0.07514101, -0.0299046 ,  0.01603745,\n",
       "        0.05848583,  0.01461108,  0.00267851,  0.00356834,  0.06271529,\n",
       "       -0.09170955, -0.0003573 , -0.02205014, -0.03424591,  0.03485066,\n",
       "       -0.01389476,  0.02522862, -0.01388548, -0.03078788,  0.05881614,\n",
       "       -0.0398112 ,  0.10883215,  0.02932556, -0.03805462,  0.05634991,\n",
       "       -0.05113252,  0.0415279 , -0.03795594,  0.00588605, -0.01311038,\n",
       "        0.01068288, -0.06870871,  0.0310026 ,  0.02085036, -0.01079689,\n",
       "        0.01272134,  0.01682213,  0.08922687, -0.00679563, -0.02433861,\n",
       "       -0.01670649, -0.07799771,  0.02447073,  0.00336909,  0.02059763,\n",
       "        0.03742765, -0.04046097, -0.10403141, -0.03637985,  0.00334839,\n",
       "       -0.03852581, -0.02438871, -0.02805624,  0.0254527 ,  0.01159216],\n",
       "      dtype=float32)"
      ]
     },
     "execution_count": 75,
     "metadata": {},
     "output_type": "execute_result"
    }
   ],
   "source": [
    "a = fasttext_model['cam']\n",
    "b = fasttext_model['cammy']\n",
    "c = fasttext_model['robert']\n",
    "\n",
    "aa = a.reshape(1,300)\n",
    "bb = b.reshape(1,300)\n",
    "cc = c.reshape(1,300)\n"
   ]
  },
  {
   "cell_type": "code",
   "execution_count": null,
   "metadata": {},
   "outputs": [],
   "source": []
  }
 ],
 "metadata": {
  "kernelspec": {
   "display_name": "Python 3",
   "language": "python",
   "name": "python3"
  },
  "language_info": {
   "codemirror_mode": {
    "name": "ipython",
    "version": 3
   },
   "file_extension": ".py",
   "mimetype": "text/x-python",
   "name": "python",
   "nbconvert_exporter": "python",
   "pygments_lexer": "ipython3",
   "version": "3.6.3"
  }
 },
 "nbformat": 4,
 "nbformat_minor": 2
}
